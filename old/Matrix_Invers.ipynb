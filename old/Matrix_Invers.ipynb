{
  "nbformat": 4,
  "nbformat_minor": 0,
  "metadata": {
    "colab": {
      "name": "Matrix Invers.ipynb",
      "provenance": [],
      "authorship_tag": "ABX9TyO0bR4RYVvMF0z4Bntaf+jC",
      "include_colab_link": true
    },
    "kernelspec": {
      "name": "python3",
      "display_name": "Python 3"
    },
    "language_info": {
      "name": "python"
    }
  },
  "cells": [
    {
      "cell_type": "markdown",
      "metadata": {
        "id": "view-in-github",
        "colab_type": "text"
      },
      "source": [
        "<a href=\"https://colab.research.google.com/github/lenovix/Matrix-2D-Invers/blob/main/Matrix_Invers.ipynb\" target=\"_parent\"><img src=\"https://colab.research.google.com/assets/colab-badge.svg\" alt=\"Open In Colab\"/></a>"
      ]
    },
    {
      "cell_type": "code",
      "metadata": {
        "id": "u1OQDRp0nOYC"
      },
      "source": [
        "# cari invers matrix 2D\n",
        "# [ a b ]            \n",
        "# [ c d ] \n",
        "# formula : (1/a*d-b*c)*adjoint matrix\n",
        "# kalau matrix tidak punya invers = print(\"matrix tidak memiliki invers\")"
      ],
      "execution_count": null,
      "outputs": []
    },
    {
      "cell_type": "code",
      "metadata": {
        "id": "isuLhtl-nfOZ"
      },
      "source": [
        "# print(\"Input matrix 2D :\")\n",
        "# print(\"[ a, b ]\")\n",
        "# print(\"[ c, d ]\")\n",
        "# print(\"=========\")\n",
        "# a = int(input(\"a: \"))\n",
        "# b = int(input(\"b: \"))\n",
        "# c = int(input(\"c: \"))\n",
        "# d = int(input(\"d: \"))\n",
        "# bb = b*(-1)\n",
        "# cc = c*(-1)\n",
        "# adjointMatrix = d,bb,cc,a\n",
        "# # result = (1/a*d-b*c)*adjointMatrix\n",
        "# print(adjointMatrix)"
      ],
      "execution_count": null,
      "outputs": []
    },
    {
      "cell_type": "code",
      "metadata": {
        "colab": {
          "base_uri": "https://localhost:8080/"
        },
        "id": "r3bLEX7yS07J",
        "outputId": "b87ddd1e-cb71-4afc-cd8f-a1499fc226ed"
      },
      "source": [
        "import numpy as np\n",
        "print(np.linalg.inv([[1,2], [3,4]]))\n",
        "# print(float(1/29))"
      ],
      "execution_count": null,
      "outputs": [
        {
          "output_type": "stream",
          "name": "stdout",
          "text": [
            "[[-2.   1. ]\n",
            " [ 1.5 -0.5]]\n"
          ]
        }
      ]
    },
    {
      "cell_type": "code",
      "metadata": {
        "colab": {
          "base_uri": "https://localhost:8080/"
        },
        "id": "zceJSoBP5-z9",
        "outputId": "fd1ac6cd-a11c-4f83-b37c-6cf356284dab"
      },
      "source": [
        "import sympy\n",
        "print(\"find invers matrix 2D :\")\n",
        "print(\"[ a, b ]\")\n",
        "print(\"[ c, d ]\")\n",
        "print(\"or [a, b, c, d]\")\n",
        "print(\"=========\")\n",
        "a = int(input(\"a: \")) # 0\n",
        "b = int(input(\"b: \")) # 1\n",
        "c = int(input(\"c: \")) # 2\n",
        "d = int(input(\"d: \")) # 3\n",
        "det = (a*d-b*c)\n",
        "a=sympy.Matrix([[a,b],[c,d]])\n",
        "if det != 0 :\n",
        "  formula = (1/det)\n",
        "  print(\"Original matrix is:\")\n",
        "  print(a)\n",
        "  d=a.adjugate()\n",
        "  print(\"Adjoint of a matrix is:\")\n",
        "  print(d)\n",
        "  result = formula*d\n",
        "  print(result)\n",
        "else:  \n",
        "  print(\"=========\")\n",
        "  print(\"Matrix tidak memiliki invers\")"
      ],
      "execution_count": null,
      "outputs": [
        {
          "output_type": "stream",
          "name": "stdout",
          "text": [
            "find invers matrix 2D :\n",
            "[ a, b ]\n",
            "[ c, d ]\n",
            "or [a, b, c, d]\n",
            "=========\n",
            "a: 1\n",
            "b: 1\n",
            "c: 1\n",
            "d: 1\n",
            "=========\n",
            "Matrix tidak memiliki invers\n"
          ]
        }
      ]
    },
    {
      "cell_type": "code",
      "metadata": {
        "colab": {
          "base_uri": "https://localhost:8080/"
        },
        "id": "WHpD61PcZNDV",
        "outputId": "7fbb6d75-3b73-45df-eb30-294d5cc2c589"
      },
      "source": [
        "print(\"find invers matrix 2D :\")\n",
        "print(\"[ a, b ]\")\n",
        "print(\"[ c, d ]\")\n",
        "print(\"or [a, b, c, d]\")\n",
        "print(\"=========\")\n",
        "# matrixInvers = [2,1,5,3]\n",
        "matrixInvers = [1,2,3,4]\n",
        "formula = ((matrixInvers[0]*matrixInvers[3])-(matrixInvers[1]*matrixInvers[2]))\n",
        "adjointMatrix = matrixInvers[3],(matrixInvers[1]*-1),(matrixInvers[2]*-1),matrixInvers[0]\n",
        "if formula == 0 :\n",
        "  print(\"Matrix tidak memiliki invers\")\n",
        "else:  \n",
        "  formulaResult = int(1/formula)\n",
        "  result = formulaResult*adjointMatrix\n",
        "  print(result)\n"
      ],
      "execution_count": null,
      "outputs": [
        {
          "output_type": "stream",
          "name": "stdout",
          "text": [
            "find invers matrix 2D :\n",
            "[ a, b ]\n",
            "[ c, d ]\n",
            "or [a, b, c, d]\n",
            "=========\n",
            "()\n"
          ]
        }
      ]
    },
    {
      "cell_type": "code",
      "metadata": {
        "colab": {
          "base_uri": "https://localhost:8080/"
        },
        "id": "xV64BOZJr_HT",
        "outputId": "1fddbc67-baba-4ec7-fac8-9ba1844a2fb2"
      },
      "source": [
        "print(\"find invers matrix 2D :\")\n",
        "print(\"[ a, b ]\")\n",
        "print(\"[ c, d ]\")\n",
        "print(\"or [a, b, c, d]\")\n",
        "print(\"=========\")\n",
        "a = int(input(\"a: \")) # 0\n",
        "b = int(input(\"b: \")) # 1\n",
        "c = int(input(\"c: \")) # 2\n",
        "d = int(input(\"d: \")) # 3\n",
        "matrix = []\n",
        "matrix.append(a)\n",
        "matrix.append(b)\n",
        "matrix.append(c)\n",
        "matrix.append(d)\n",
        "formula = ((matrix[0]*matrix[3])-(matrix[1]*matrix[2]))\n",
        "adjointMatrix = matrix[3],(matrix[1]*-1),(matrix[2]*-1),matrix[0]\n",
        "if formula == 0 :\n",
        "  print(\"Matrix tidak memiliki invers\")\n",
        "else:  \n",
        "  formulaResult = int(1/formula)\n",
        "  result = formulaResult*adjointMatrix\n",
        "  print(result)"
      ],
      "execution_count": null,
      "outputs": [
        {
          "output_type": "stream",
          "name": "stdout",
          "text": [
            "find invers matrix 2D :\n",
            "[ a, b ]\n",
            "[ c, d ]\n",
            "or [a, b, c, d]\n",
            "=========\n",
            "a: 7\n",
            "b: 2\n",
            "c: 17\n",
            "d: 5\n",
            "(5, -2, -17, 7)\n"
          ]
        }
      ]
    },
    {
      "cell_type": "code",
      "metadata": {
        "colab": {
          "base_uri": "https://localhost:8080/",
          "height": 358
        },
        "id": "myqia_vL8SRc",
        "outputId": "fab1fce5-9063-4af6-ad45-366d8df8f888"
      },
      "source": [
        "from linalg import Matrix\n",
        "\n",
        "x = Matrix([1, 2, 3])"
      ],
      "execution_count": null,
      "outputs": [
        {
          "output_type": "error",
          "ename": "TypeError",
          "evalue": "ignored",
          "traceback": [
            "\u001b[0;31m---------------------------------------------------------------------------\u001b[0m",
            "\u001b[0;31mTypeError\u001b[0m                                 Traceback (most recent call last)",
            "\u001b[0;32m<ipython-input-19-6bb9dcce8519>\u001b[0m in \u001b[0;36m<module>\u001b[0;34m()\u001b[0m\n\u001b[1;32m      1\u001b[0m \u001b[0;32mfrom\u001b[0m \u001b[0mlinalg\u001b[0m \u001b[0;32mimport\u001b[0m \u001b[0mMatrix\u001b[0m\u001b[0;34m\u001b[0m\u001b[0;34m\u001b[0m\u001b[0m\n\u001b[1;32m      2\u001b[0m \u001b[0;34m\u001b[0m\u001b[0m\n\u001b[0;32m----> 3\u001b[0;31m \u001b[0mx\u001b[0m \u001b[0;34m=\u001b[0m \u001b[0mMatrix\u001b[0m\u001b[0;34m(\u001b[0m\u001b[0;34m[\u001b[0m\u001b[0;36m1\u001b[0m\u001b[0;34m,\u001b[0m \u001b[0;36m2\u001b[0m\u001b[0;34m,\u001b[0m \u001b[0;36m3\u001b[0m\u001b[0;34m]\u001b[0m\u001b[0;34m)\u001b[0m\u001b[0;34m\u001b[0m\u001b[0;34m\u001b[0m\u001b[0m\n\u001b[0m",
            "\u001b[0;32m/usr/local/lib/python3.7/dist-packages/linalg/types.py\u001b[0m in \u001b[0;36m__init__\u001b[0;34m(self, mat, valid)\u001b[0m\n\u001b[1;32m     19\u001b[0m                 \u001b[0mself\u001b[0m\u001b[0;34m.\u001b[0m\u001b[0m_is_valid\u001b[0m\u001b[0;34m(\u001b[0m\u001b[0mmat\u001b[0m\u001b[0;34m)\u001b[0m\u001b[0;34m\u001b[0m\u001b[0;34m\u001b[0m\u001b[0m\n\u001b[1;32m     20\u001b[0m             \u001b[0;32mexcept\u001b[0m \u001b[0mException\u001b[0m \u001b[0;32mas\u001b[0m \u001b[0me\u001b[0m\u001b[0;34m:\u001b[0m\u001b[0;34m\u001b[0m\u001b[0;34m\u001b[0m\u001b[0m\n\u001b[0;32m---> 21\u001b[0;31m                 \u001b[0;32mraise\u001b[0m \u001b[0me\u001b[0m\u001b[0;34m\u001b[0m\u001b[0;34m\u001b[0m\u001b[0m\n\u001b[0m\u001b[1;32m     22\u001b[0m \u001b[0;34m\u001b[0m\u001b[0m\n\u001b[1;32m     23\u001b[0m         \u001b[0mself\u001b[0m\u001b[0;34m.\u001b[0m\u001b[0mshape\u001b[0m \u001b[0;34m=\u001b[0m \u001b[0;34m(\u001b[0m\u001b[0mlen\u001b[0m\u001b[0;34m(\u001b[0m\u001b[0mmat\u001b[0m\u001b[0;34m)\u001b[0m\u001b[0;34m,\u001b[0m \u001b[0mlen\u001b[0m\u001b[0;34m(\u001b[0m\u001b[0mmat\u001b[0m\u001b[0;34m[\u001b[0m\u001b[0;36m0\u001b[0m\u001b[0;34m]\u001b[0m\u001b[0;34m)\u001b[0m\u001b[0;34m)\u001b[0m\u001b[0;34m\u001b[0m\u001b[0;34m\u001b[0m\u001b[0m\n",
            "\u001b[0;32m/usr/local/lib/python3.7/dist-packages/linalg/types.py\u001b[0m in \u001b[0;36m__init__\u001b[0;34m(self, mat, valid)\u001b[0m\n\u001b[1;32m     17\u001b[0m         \u001b[0;32mif\u001b[0m \u001b[0;32mnot\u001b[0m \u001b[0mvalid\u001b[0m\u001b[0;34m:\u001b[0m\u001b[0;34m\u001b[0m\u001b[0;34m\u001b[0m\u001b[0m\n\u001b[1;32m     18\u001b[0m             \u001b[0;32mtry\u001b[0m\u001b[0;34m:\u001b[0m\u001b[0;34m\u001b[0m\u001b[0;34m\u001b[0m\u001b[0m\n\u001b[0;32m---> 19\u001b[0;31m                 \u001b[0mself\u001b[0m\u001b[0;34m.\u001b[0m\u001b[0m_is_valid\u001b[0m\u001b[0;34m(\u001b[0m\u001b[0mmat\u001b[0m\u001b[0;34m)\u001b[0m\u001b[0;34m\u001b[0m\u001b[0;34m\u001b[0m\u001b[0m\n\u001b[0m\u001b[1;32m     20\u001b[0m             \u001b[0;32mexcept\u001b[0m \u001b[0mException\u001b[0m \u001b[0;32mas\u001b[0m \u001b[0me\u001b[0m\u001b[0;34m:\u001b[0m\u001b[0;34m\u001b[0m\u001b[0;34m\u001b[0m\u001b[0m\n\u001b[1;32m     21\u001b[0m                 \u001b[0;32mraise\u001b[0m \u001b[0me\u001b[0m\u001b[0;34m\u001b[0m\u001b[0;34m\u001b[0m\u001b[0m\n",
            "\u001b[0;32m/usr/local/lib/python3.7/dist-packages/linalg/types.py\u001b[0m in \u001b[0;36m_is_valid\u001b[0;34m(self, mat)\u001b[0m\n\u001b[1;32m     31\u001b[0m         \u001b[0;34m:\u001b[0m\u001b[0mraises\u001b[0m \u001b[0mMatrixError\u001b[0m\u001b[0;34m:\u001b[0m \u001b[0mraises\u001b[0m \u001b[0mMatrixError\u001b[0m\u001b[0;34m\u001b[0m\u001b[0;34m\u001b[0m\u001b[0m\n\u001b[1;32m     32\u001b[0m         \"\"\"\n\u001b[0;32m---> 33\u001b[0;31m         \u001b[0mmatlen\u001b[0m \u001b[0;34m=\u001b[0m \u001b[0mlen\u001b[0m\u001b[0;34m(\u001b[0m\u001b[0mmat\u001b[0m\u001b[0;34m[\u001b[0m\u001b[0;36m0\u001b[0m\u001b[0;34m]\u001b[0m\u001b[0;34m)\u001b[0m\u001b[0;34m\u001b[0m\u001b[0;34m\u001b[0m\u001b[0m\n\u001b[0m\u001b[1;32m     34\u001b[0m         \u001b[0;32mfor\u001b[0m \u001b[0mrow\u001b[0m \u001b[0;32min\u001b[0m \u001b[0mmat\u001b[0m\u001b[0;34m:\u001b[0m\u001b[0;34m\u001b[0m\u001b[0;34m\u001b[0m\u001b[0m\n\u001b[1;32m     35\u001b[0m             \u001b[0;32mif\u001b[0m \u001b[0mlen\u001b[0m\u001b[0;34m(\u001b[0m\u001b[0mrow\u001b[0m\u001b[0;34m)\u001b[0m \u001b[0;34m!=\u001b[0m \u001b[0mmatlen\u001b[0m\u001b[0;34m:\u001b[0m\u001b[0;34m\u001b[0m\u001b[0;34m\u001b[0m\u001b[0m\n",
            "\u001b[0;31mTypeError\u001b[0m: object of type 'int' has no len()"
          ]
        }
      ]
    },
    {
      "cell_type": "code",
      "metadata": {
        "colab": {
          "base_uri": "https://localhost:8080/"
        },
        "id": "WPQp_59j_kIa",
        "outputId": "7ae85252-002b-4f08-e2ba-77976cc82713"
      },
      "source": [
        "pip install Plane"
      ],
      "execution_count": null,
      "outputs": [
        {
          "output_type": "stream",
          "name": "stdout",
          "text": [
            "Collecting Plane\n",
            "  Downloading plane-0.2.1-py3-none-any.whl (11 kB)\n",
            "Installing collected packages: Plane\n",
            "Successfully installed Plane-0.2.1\n"
          ]
        }
      ]
    }
  ]
}