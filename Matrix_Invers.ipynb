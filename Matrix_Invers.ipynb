{
  "nbformat": 4,
  "nbformat_minor": 0,
  "metadata": {
    "colab": {
      "name": "Matrix Invers.ipynb",
      "provenance": [],
      "authorship_tag": "ABX9TyPkrG3kh5hXFjvdVIe1gDI+",
      "include_colab_link": true
    },
    "kernelspec": {
      "name": "python3",
      "display_name": "Python 3"
    },
    "language_info": {
      "name": "python"
    }
  },
  "cells": [
    {
      "cell_type": "markdown",
      "metadata": {
        "id": "view-in-github",
        "colab_type": "text"
      },
      "source": [
        "<a href=\"https://colab.research.google.com/github/lenovix/Matrix-2D-Invers/blob/main/Matrix_Invers.ipynb\" target=\"_parent\"><img src=\"https://colab.research.google.com/assets/colab-badge.svg\" alt=\"Open In Colab\"/></a>"
      ]
    },
    {
      "cell_type": "code",
      "metadata": {
        "id": "BVYzZFeSDVX_"
      },
      "source": [
        "# cari invers matrix 2D\n",
        "# [ a b ]            \n",
        "# [ c d ] \n",
        "# formula : (1/a*d-b*c)*adjoint matrix\n",
        "# kalau matrix tidak punya invers = print(\"matrix tidak memiliki invers\")\n",
        "\n",
        "# Ary Alvarisy\n",
        "# Ichsanul Kamil S"
      ],
      "execution_count": null,
      "outputs": []
    },
    {
      "cell_type": "code",
      "metadata": {
        "colab": {
          "base_uri": "https://localhost:8080/"
        },
        "id": "TrXwTK9JDWSb",
        "outputId": "e8de7f13-6ce1-4588-cff6-aa11510d6d10"
      },
      "source": [
        "import sympy\n",
        "print(\"find invers matrix 2D :\")\n",
        "print(\"[ a, b ]\")\n",
        "print(\"[ c, d ]\")\n",
        "print(\"or [a, b, c, d]\")\n",
        "print(\"=========\")\n",
        "a = int(input(\"a: \")) # 0\n",
        "b = int(input(\"b: \")) # 1\n",
        "c = int(input(\"c: \")) # 2\n",
        "d = int(input(\"d: \")) # 3\n",
        "det = (a*d-b*c)\n",
        "a=sympy.Matrix([[a,b],[c,d]])\n",
        "if det != 0 :\n",
        "  formula = (1/det)\n",
        "  print(\"Original matrix is:\")\n",
        "  print(a)\n",
        "  d=a.adjugate()\n",
        "  print(\"Adjoint of a matrix is:\")\n",
        "  print(d)\n",
        "  result = formula*d\n",
        "  print(\"Invers of a matrix is:\")\n",
        "  print(result)\n",
        "else:  \n",
        "  print(\"=========\")\n",
        "  print(\"Matrix tidak memiliki invers\")"
      ],
      "execution_count": 3,
      "outputs": [
        {
          "output_type": "stream",
          "name": "stdout",
          "text": [
            "find invers matrix 2D :\n",
            "[ a, b ]\n",
            "[ c, d ]\n",
            "or [a, b, c, d]\n",
            "=========\n",
            "a: 7\n",
            "b: 2\n",
            "c: 17\n",
            "d: 5\n",
            "Original matrix is:\n",
            "Matrix([[7, 2], [17, 5]])\n",
            "Adjoint of a matrix is:\n",
            "Matrix([[5, -2], [-17, 7]])\n",
            "Invers of a matrix is:\n",
            "Matrix([[5.00000000000000, -2.00000000000000], [-17.0000000000000, 7.00000000000000]])\n"
          ]
        }
      ]
    }
  ]
}